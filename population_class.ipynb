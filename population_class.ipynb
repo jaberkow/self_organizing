{
 "cells": [
  {
   "cell_type": "code",
   "execution_count": 2,
   "metadata": {
    "collapsed": false
   },
   "outputs": [],
   "source": [
    "import numpy as np\n",
    "import matplotlib.pyplot as plt\n",
    "from numpy.random import randn\n",
    "from numpy.random import rand"
   ]
  },
  {
   "cell_type": "code",
   "execution_count": 24,
   "metadata": {
    "collapsed": false
   },
   "outputs": [],
   "source": [
    "class population:\n",
    "    'base class for self organizing populations'\n",
    "    \n",
    "    def __init__(self, N, N_A, beta, tau_max, eta, r_target):\n",
    "        \"\"\"\n",
    "        Constructor for the self-organizing population\n",
    "        \n",
    "        N:  The size of the population\n",
    "        N_A:  The number of adapting neurons\n",
    "        beta: The global noise level (gain level)\n",
    "        tau_max:  The size of the firing rate averaging window\n",
    "        r_target: The target firing rate\n",
    "        \n",
    "        \"\"\"\n",
    "        #initialize global parameters\n",
    "        self.N = N\n",
    "        self.N_A = N_A\n",
    "        self.N_S = N - N_A\n",
    "        self.beta = beta\n",
    "        self.tau_max = tau_max\n",
    "        self.eta = eta\n",
    "        self.r_target = r_target\n",
    "        \n",
    "        self.T = 0 #global time index, starts at 0\n",
    "        \n",
    "        #initialize dynamic variables\n",
    "        p = (r_target + 1.0)/2.0\n",
    "        self.y = np.sign(p - rand(N)) #the y_i are distributed according to the target firing rate\n",
    "        self.alpha_vec = np.zeros(N) #thresholds are initially all zero\n",
    "        \n",
    "    def calc_r(self):"
   ]
  },
  {
   "cell_type": "code",
   "execution_count": 25,
   "metadata": {
    "collapsed": false
   },
   "outputs": [],
   "source": [
    "pop1=population(10,5,1.0,2,0.5,0.0)"
   ]
  },
  {
   "cell_type": "code",
   "execution_count": 26,
   "metadata": {
    "collapsed": false
   },
   "outputs": [
    {
     "data": {
      "text/plain": [
       "array([ 1., -1.,  1.,  1.,  1.,  1., -1.,  1.,  1., -1.])"
      ]
     },
     "execution_count": 26,
     "metadata": {},
     "output_type": "execute_result"
    }
   ],
   "source": [
    "pop1.y"
   ]
  },
  {
   "cell_type": "code",
   "execution_count": null,
   "metadata": {
    "collapsed": true
   },
   "outputs": [],
   "source": [
    ""
   ]
  }
 ],
 "metadata": {
  "kernelspec": {
   "display_name": "Python 2",
   "language": "python",
   "name": "python2"
  },
  "language_info": {
   "codemirror_mode": {
    "name": "ipython",
    "version": 2.0
   },
   "file_extension": ".py",
   "mimetype": "text/x-python",
   "name": "python",
   "nbconvert_exporter": "python",
   "pygments_lexer": "ipython2",
   "version": "2.7.12"
  }
 },
 "nbformat": 4,
 "nbformat_minor": 0
}